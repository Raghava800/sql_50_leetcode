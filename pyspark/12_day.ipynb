{
 "cells": [
  {
   "cell_type": "code",
   "id": "initial_id",
   "metadata": {
    "collapsed": true,
    "ExecuteTime": {
     "end_time": "2025-07-09T17:54:05.534448Z",
     "start_time": "2025-07-09T17:54:05.518360Z"
    }
   },
   "source": [
    "import os\n",
    "import sys\n",
    "spark_home = r\"C:\\spark\\spark-4.0.0-bin-hadoop3\"\n",
    "sys.path.insert(0, spark_home + r\"\\python\")\n",
    "sys.path.insert(0, spark_home + r\"\\python\\lib\\py4j-0.10.9.9-src.zip\")\n",
    "os.environ[\"PYSPARK_PYTHON\"] = \"C:/Users/Raghava/AppData/Local/Programs/Python/Python310/python.exe\"\n",
    "os.environ[\"PYSPARK_DRIVER_PYTHON\"] = \"C:/Users/Raghava/AppData/Local/Programs/Python/Python310/python.exe\"\n"
   ],
   "outputs": [],
   "execution_count": 2
  },
  {
   "metadata": {
    "ExecuteTime": {
     "end_time": "2025-07-09T17:54:08.800385Z",
     "start_time": "2025-07-09T17:54:08.454262Z"
    }
   },
   "cell_type": "code",
   "source": [
    "from pyspark.sql import SparkSession\n",
    "from pyspark.sql.functions import col, avg,unix_timestamp, round as pyspark_round, count\n",
    "from pyspark.sql.window import Window"
   ],
   "id": "270e105d1391b22d",
   "outputs": [],
   "execution_count": 3
  },
  {
   "metadata": {
    "ExecuteTime": {
     "end_time": "2025-07-09T17:54:26.102948Z",
     "start_time": "2025-07-09T17:54:11.929304Z"
    }
   },
   "cell_type": "code",
   "source": "spark = SparkSession.builder.getOrCreate()",
   "id": "37cc3d987ac3e5be",
   "outputs": [],
   "execution_count": 4
  },
  {
   "metadata": {
    "jupyter": {
     "is_executing": true
    },
    "ExecuteTime": {
     "start_time": "2025-07-09T17:54:26.149832Z"
    }
   },
   "cell_type": "code",
   "source": [
    "students_df = spark.read.csv(\"H:/leet_code_sql_50/sql_50_leetcode/sample_data/12_students.csv\", header=True, inferSchema=True)\n",
    "print(\"Students DataFrame (from CSV):\")\n",
    "students_df.show()\n",
    "students_df.printSchema() # Verify schema\n",
    "\n",
    "subjects_df = spark.read.csv(\"H:/leet_code_sql_50/sql_50_leetcode/sample_data/12_subjects.csv\", header=True, inferSchema=True)\n",
    "print(\"Subjects DataFrame (from CSV):\")\n",
    "subjects_df.show()\n",
    "subjects_df.printSchema() # Verify schema\n",
    "\n",
    "examinations_df = spark.read.csv(\"H:/leet_code_sql_50/sql_50_leetcode/sample_data/12_examinations.csv\", header=True, inferSchema=True)\n",
    "print(\"Examinations DataFrame (from CSV):\")\n",
    "examinations_df.show()\n",
    "examinations_df.printSchema() # Verify schema\n",
    "\n",
    "all_combinations_df = students_df.crossJoin(subjects_df)\n",
    "print(\"DataFrame after CROSS JOIN (all student-subject combinations):\")\n",
    "all_combinations_df.show()\n",
    "\n",
    "joined_df = all_combinations_df.join(\n",
    "    examinations_df,\n",
    "    on=[\n",
    "        all_combinations_df.student_id == examinations_df.student_id,\n",
    "        all_combinations_df.subject_name == examinations_df.subject_name\n",
    "    ],\n",
    "    how=\"left_outer\"\n",
    ")\n",
    "\n",
    "joined_df.show()\n",
    "\n",
    "result_df = joined_df.groupBy(\n",
    "    students_df.student_id,\n",
    "    students_df.student_name,\n",
    "    subjects_df.subject_name\n",
    ").agg(\n",
    "    count(examinations_df.student_id).alias(\"attended_exams\")\n",
    ")\n",
    "\n",
    "result_df.show()\n",
    "\n",
    "final_result_df = result_df.orderBy(\n",
    "    students_df.student_id,\n",
    "    subjects_df.subject_name\n",
    ")\n",
    "\n",
    "final_result_df.show()\n"
   ],
   "id": "116d01645503c6a5",
   "outputs": [],
   "execution_count": null
  },
  {
   "metadata": {},
   "cell_type": "code",
   "outputs": [],
   "execution_count": null,
   "source": "",
   "id": "6dbdbb6c21627ca7"
  }
 ],
 "metadata": {
  "kernelspec": {
   "display_name": "Python 3",
   "language": "python",
   "name": "python3"
  },
  "language_info": {
   "codemirror_mode": {
    "name": "ipython",
    "version": 2
   },
   "file_extension": ".py",
   "mimetype": "text/x-python",
   "name": "python",
   "nbconvert_exporter": "python",
   "pygments_lexer": "ipython2",
   "version": "2.7.6"
  }
 },
 "nbformat": 4,
 "nbformat_minor": 5
}
