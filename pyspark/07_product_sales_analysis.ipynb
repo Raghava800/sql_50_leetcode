{
 "cells": [
  {
   "cell_type": "code",
   "id": "initial_id",
   "metadata": {
    "collapsed": true,
    "ExecuteTime": {
     "end_time": "2025-06-29T15:43:58.261299Z",
     "start_time": "2025-06-29T15:43:58.250236Z"
    }
   },
   "source": [
    "import os\n",
    "import sys\n",
    "spark_home = r\"C:\\spark\\spark-4.0.0-bin-hadoop3\"\n",
    "sys.path.insert(0, spark_home + r\"\\python\")\n",
    "sys.path.insert(0, spark_home + r\"\\python\\lib\\py4j-0.10.9.9-src.zip\")\n",
    "os.environ[\"PYSPARK_PYTHON\"] = \"C:/Users/Raghava/AppData/Local/Programs/Python/Python310/python.exe\"\n",
    "os.environ[\"PYSPARK_DRIVER_PYTHON\"] = \"C:/Users/Raghava/AppData/Local/Programs/Python/Python310/python.exe\"\n"
   ],
   "outputs": [],
   "execution_count": 1
  },
  {
   "metadata": {
    "ExecuteTime": {
     "end_time": "2025-06-29T15:44:09.611977Z",
     "start_time": "2025-06-29T15:44:07.974750Z"
    }
   },
   "cell_type": "code",
   "source": "from pyspark.sql import SparkSession\n",
   "id": "bb977580c06163d",
   "outputs": [],
   "execution_count": 2
  },
  {
   "metadata": {
    "ExecuteTime": {
     "end_time": "2025-06-29T15:44:31.917891Z",
     "start_time": "2025-06-29T15:44:09.631868Z"
    }
   },
   "cell_type": "code",
   "source": "spark = SparkSession.builder.getOrCreate()",
   "id": "cfefb71b3a9b1274",
   "outputs": [],
   "execution_count": 3
  },
  {
   "metadata": {
    "ExecuteTime": {
     "end_time": "2025-06-29T15:44:46.195029Z",
     "start_time": "2025-06-29T15:44:31.950980Z"
    }
   },
   "cell_type": "code",
   "source": "df_sales = spark.read.csv(\"H:/leet_code_sql_50/sql_50_leetcode/sample_data/07_product_sales_analysis_one.csv\", header=True, inferSchema=True)",
   "id": "687b8d73d189549",
   "outputs": [],
   "execution_count": 4
  },
  {
   "metadata": {
    "ExecuteTime": {
     "end_time": "2025-06-29T15:44:46.961515Z",
     "start_time": "2025-06-29T15:44:46.246164Z"
    }
   },
   "cell_type": "code",
   "source": "df_product = spark.read.csv(\"H:/leet_code_sql_50/sql_50_leetcode/sample_data/07_product_sales_analysis_two.csv\", header=True, inferSchema=True)",
   "id": "9f1037239851ebf",
   "outputs": [],
   "execution_count": 5
  },
  {
   "metadata": {
    "ExecuteTime": {
     "end_time": "2025-06-29T15:44:49.487676Z",
     "start_time": "2025-06-29T15:44:47.771379Z"
    }
   },
   "cell_type": "code",
   "source": "df_product.join(df_sales,on='product_id',how='right').select(\"product_name\",\"year\",\"price\").show()",
   "id": "3305910215241352",
   "outputs": [
    {
     "name": "stdout",
     "output_type": "stream",
     "text": [
      "+------------+----+-----+\n",
      "|product_name|year|price|\n",
      "+------------+----+-----+\n",
      "|       Nokia|2008| 5000|\n",
      "|       Nokia|2009| 5000|\n",
      "|       Apple|2011| 9000|\n",
      "+------------+----+-----+\n",
      "\n"
     ]
    }
   ],
   "execution_count": 6
  }
 ],
 "metadata": {
  "kernelspec": {
   "display_name": "Python 3",
   "language": "python",
   "name": "python3"
  },
  "language_info": {
   "codemirror_mode": {
    "name": "ipython",
    "version": 2
   },
   "file_extension": ".py",
   "mimetype": "text/x-python",
   "name": "python",
   "nbconvert_exporter": "python",
   "pygments_lexer": "ipython2",
   "version": "2.7.6"
  }
 },
 "nbformat": 4,
 "nbformat_minor": 5
}
