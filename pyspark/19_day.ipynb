{
 "cells": [
  {
   "cell_type": "code",
   "id": "initial_id",
   "metadata": {
    "collapsed": true,
    "ExecuteTime": {
     "end_time": "2025-07-16T17:15:34.577987Z",
     "start_time": "2025-07-16T17:15:34.546733Z"
    }
   },
   "source": [
    "import os\n",
    "import sys\n",
    "spark_home = r\"C:\\spark\\spark-4.0.0-bin-hadoop3\"\n",
    "sys.path.insert(0, spark_home + r\"\\python\")\n",
    "sys.path.insert(0, spark_home + r\"\\python\\lib\\py4j-0.10.9.9-src.zip\")\n",
    "os.environ[\"PYSPARK_PYTHON\"] = \"C:/Users/Raghava/AppData/Local/Programs/Python/Python310/python.exe\"\n",
    "os.environ[\"PYSPARK_DRIVER_PYTHON\"] = \"C:/Users/Raghava/AppData/Local/Programs/Python/Python310/python.exe\"\n"
   ],
   "outputs": [],
   "execution_count": 1
  },
  {
   "metadata": {
    "ExecuteTime": {
     "end_time": "2025-07-16T17:30:56.058589Z",
     "start_time": "2025-07-16T17:30:56.049719Z"
    }
   },
   "cell_type": "code",
   "source": [
    "from pyspark.sql import SparkSession\n",
    "from pyspark.sql.functions import col, avg, round,count, sum, when"
   ],
   "id": "85074a5ec306ee1c",
   "outputs": [],
   "execution_count": 10
  },
  {
   "metadata": {
    "ExecuteTime": {
     "end_time": "2025-07-16T17:16:23.041122Z",
     "start_time": "2025-07-16T17:15:37.882179Z"
    }
   },
   "cell_type": "code",
   "source": "spark = SparkSession.builder.getOrCreate()",
   "id": "d9c7c9513e3bb07",
   "outputs": [],
   "execution_count": 3
  },
  {
   "metadata": {
    "ExecuteTime": {
     "end_time": "2025-07-16T17:16:35.003830Z",
     "start_time": "2025-07-16T17:16:23.041122Z"
    }
   },
   "cell_type": "code",
   "source": "queries_df = spark.read.csv(\"H:/leet_code_sql_50/sql_50_leetcode/sample_data/19_queries.csv\", header=True, inferSchema=True)",
   "id": "ee7838a7addce366",
   "outputs": [],
   "execution_count": 4
  },
  {
   "metadata": {
    "ExecuteTime": {
     "end_time": "2025-07-16T17:16:35.910844Z",
     "start_time": "2025-07-16T17:16:35.010087Z"
    }
   },
   "cell_type": "code",
   "source": "queries_df.show()",
   "id": "3738dcc66ec9b6c9",
   "outputs": [
    {
     "name": "stdout",
     "output_type": "stream",
     "text": [
      "+----------+----------------+--------+------+\n",
      "|query_name|          result|position|rating|\n",
      "+----------+----------------+--------+------+\n",
      "|       Dog|Golden Retriever|       1|     5|\n",
      "|       Dog| German Shepherd|       2|     5|\n",
      "|       Dog|            Mule|     200|     1|\n",
      "|       Cat|         Shirazi|       5|     2|\n",
      "|       Cat|         Siamese|       3|     3|\n",
      "|       Cat|          Sphynx|       7|     4|\n",
      "+----------+----------------+--------+------+\n",
      "\n"
     ]
    }
   ],
   "execution_count": 5
  },
  {
   "metadata": {
    "ExecuteTime": {
     "end_time": "2025-07-16T17:33:25.452203Z",
     "start_time": "2025-07-16T17:33:24.136660Z"
    }
   },
   "cell_type": "code",
   "source": [
    "result_df = queries_df.groupBy(\"query_name\").agg(\n",
    "    round(\n",
    "        avg(col(\"rating\") * 1.0 / col(\"position\")), 2\n",
    "    ).alias(\"quality\"),\n",
    "\n",
    "    round(\n",
    "        (sum(when(col(\"rating\") < 3, 1).otherwise(0)) * 100.0) / count(col(\"rating\")), 2\n",
    "    ).alias(\"percentage\")\n",
    ")\n",
    "\n",
    "result_df.show()"
   ],
   "id": "d5db43cde609e553",
   "outputs": [
    {
     "name": "stdout",
     "output_type": "stream",
     "text": [
      "+----------+-------+----------+\n",
      "|query_name|quality|percentage|\n",
      "+----------+-------+----------+\n",
      "|       Cat|   0.66|     33.33|\n",
      "|       Dog|    2.5|     33.33|\n",
      "+----------+-------+----------+\n",
      "\n"
     ]
    }
   ],
   "execution_count": 13
  },
  {
   "metadata": {},
   "cell_type": "code",
   "outputs": [],
   "execution_count": null,
   "source": "",
   "id": "6abfe51d6f577851"
  }
 ],
 "metadata": {
  "kernelspec": {
   "display_name": "Python 3",
   "language": "python",
   "name": "python3"
  },
  "language_info": {
   "codemirror_mode": {
    "name": "ipython",
    "version": 2
   },
   "file_extension": ".py",
   "mimetype": "text/x-python",
   "name": "python",
   "nbconvert_exporter": "python",
   "pygments_lexer": "ipython2",
   "version": "2.7.6"
  }
 },
 "nbformat": 4,
 "nbformat_minor": 5
}
