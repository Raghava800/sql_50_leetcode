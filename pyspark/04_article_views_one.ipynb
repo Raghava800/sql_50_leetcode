{
 "cells": [
  {
   "cell_type": "code",
   "id": "initial_id",
   "metadata": {
    "collapsed": true,
    "ExecuteTime": {
     "end_time": "2025-06-29T14:49:22.821759Z",
     "start_time": "2025-06-29T14:49:22.794686Z"
    }
   },
   "source": [
    "import os\n",
    "import sys\n",
    "spark_home = r\"C:\\spark\\spark-4.0.0-bin-hadoop3\"\n",
    "sys.path.insert(0, spark_home + r\"\\python\")\n",
    "sys.path.insert(0, spark_home + r\"\\python\\lib\\py4j-0.10.9.9-src.zip\")\n",
    "os.environ[\"PYSPARK_PYTHON\"] = \"C:/Users/Raghava/AppData/Local/Programs/Python/Python310/python.exe\"\n",
    "os.environ[\"PYSPARK_DRIVER_PYTHON\"] = \"C:/Users/Raghava/AppData/Local/Programs/Python/Python310/python.exe\"\n"
   ],
   "outputs": [],
   "execution_count": 1
  },
  {
   "metadata": {
    "ExecuteTime": {
     "end_time": "2025-06-29T14:49:23.723157Z",
     "start_time": "2025-06-29T14:49:23.364201Z"
    }
   },
   "cell_type": "code",
   "source": [
    "from pyspark.sql import SparkSession\n",
    "from pyspark.sql.functions import col"
   ],
   "id": "dd9e8dd72c215f40",
   "outputs": [],
   "execution_count": 2
  },
  {
   "metadata": {
    "ExecuteTime": {
     "end_time": "2025-06-29T14:49:43.532832Z",
     "start_time": "2025-06-29T14:49:24.212455Z"
    }
   },
   "cell_type": "code",
   "source": "spark = SparkSession.builder.getOrCreate()",
   "id": "10b903ee6db989eb",
   "outputs": [],
   "execution_count": 3
  },
  {
   "metadata": {
    "ExecuteTime": {
     "end_time": "2025-06-29T14:50:17.164773Z",
     "start_time": "2025-06-29T14:49:43.610036Z"
    }
   },
   "cell_type": "code",
   "source": "df = spark.read.csv(\"H:/leet_code_sql_50/sql_50_leetcode/sample_data/04_article_views_one.csv\", header=True, inferSchema=True)",
   "id": "eb14f4797ee761ca",
   "outputs": [],
   "execution_count": 4
  },
  {
   "metadata": {
    "ExecuteTime": {
     "end_time": "2025-06-29T14:53:35.442526Z",
     "start_time": "2025-06-29T14:53:32.354317Z"
    }
   },
   "cell_type": "code",
   "source": "df.where(col('author_id') == col('viewer_id')).select(col('author_id').alias('id')).distinct().show()",
   "id": "c630cd3199dd0278",
   "outputs": [
    {
     "name": "stdout",
     "output_type": "stream",
     "text": [
      "+---+\n",
      "| id|\n",
      "+---+\n",
      "|  4|\n",
      "|  7|\n",
      "+---+\n",
      "\n"
     ]
    }
   ],
   "execution_count": 6
  },
  {
   "metadata": {},
   "cell_type": "code",
   "outputs": [],
   "execution_count": null,
   "source": "",
   "id": "15980d9e0a77d414"
  }
 ],
 "metadata": {
  "kernelspec": {
   "display_name": "Python 3",
   "language": "python",
   "name": "python3"
  },
  "language_info": {
   "codemirror_mode": {
    "name": "ipython",
    "version": 2
   },
   "file_extension": ".py",
   "mimetype": "text/x-python",
   "name": "python",
   "nbconvert_exporter": "python",
   "pygments_lexer": "ipython2",
   "version": "2.7.6"
  }
 },
 "nbformat": 4,
 "nbformat_minor": 5
}
