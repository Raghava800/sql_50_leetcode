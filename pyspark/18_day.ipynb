{
 "cells": [
  {
   "cell_type": "code",
   "id": "initial_id",
   "metadata": {
    "collapsed": true,
    "ExecuteTime": {
     "end_time": "2025-07-15T17:33:35.047918Z",
     "start_time": "2025-07-15T17:33:35.016665Z"
    }
   },
   "source": [
    "import os\n",
    "import sys\n",
    "spark_home = r\"C:\\spark\\spark-4.0.0-bin-hadoop3\"\n",
    "sys.path.insert(0, spark_home + r\"\\python\")\n",
    "sys.path.insert(0, spark_home + r\"\\python\\lib\\py4j-0.10.9.9-src.zip\")\n",
    "os.environ[\"PYSPARK_PYTHON\"] = \"C:/Users/Raghava/AppData/Local/Programs/Python/Python310/python.exe\"\n",
    "os.environ[\"PYSPARK_DRIVER_PYTHON\"] = \"C:/Users/Raghava/AppData/Local/Programs/Python/Python310/python.exe\"\n"
   ],
   "outputs": [],
   "execution_count": 1
  },
  {
   "metadata": {
    "ExecuteTime": {
     "end_time": "2025-07-15T17:39:58.500584Z",
     "start_time": "2025-07-15T17:39:58.469175Z"
    }
   },
   "cell_type": "code",
   "source": [
    "from pyspark.sql import SparkSession\n",
    "from pyspark.sql.functions import col, avg, round,count\n"
   ],
   "id": "ec2ad19a20e2b544",
   "outputs": [],
   "execution_count": 10
  },
  {
   "metadata": {
    "ExecuteTime": {
     "end_time": "2025-07-15T17:34:24.641447Z",
     "start_time": "2025-07-15T17:33:39.221655Z"
    }
   },
   "cell_type": "code",
   "source": "spark = SparkSession.builder.getOrCreate()",
   "id": "7555357689d40119",
   "outputs": [],
   "execution_count": 3
  },
  {
   "metadata": {
    "ExecuteTime": {
     "end_time": "2025-07-15T17:34:36.623917Z",
     "start_time": "2025-07-15T17:34:24.641447Z"
    }
   },
   "cell_type": "code",
   "source": "users_df = spark.read.csv(\"H:/leet_code_sql_50/sql_50_leetcode/sample_data/18_users.csv\", header=True, inferSchema=True)",
   "id": "3d1eb170141baa08",
   "outputs": [],
   "execution_count": 4
  },
  {
   "metadata": {
    "ExecuteTime": {
     "end_time": "2025-07-15T17:34:37.336141Z",
     "start_time": "2025-07-15T17:34:36.623917Z"
    }
   },
   "cell_type": "code",
   "source": "register_df = spark.read.csv(\"H:/leet_code_sql_50/sql_50_leetcode/sample_data/18_register.csv\", header=True, inferSchema=True)",
   "id": "c517917fc820c87a",
   "outputs": [],
   "execution_count": 5
  },
  {
   "metadata": {
    "ExecuteTime": {
     "end_time": "2025-07-15T17:34:37.687895Z",
     "start_time": "2025-07-15T17:34:37.383021Z"
    }
   },
   "cell_type": "code",
   "source": "result_df = users_df.alias(\"u\").join(register_df.alias(\"r\"),col('u.user_id') == col('r.user_id'))",
   "id": "48e36ac76d48ff86",
   "outputs": [],
   "execution_count": 6
  },
  {
   "metadata": {
    "ExecuteTime": {
     "end_time": "2025-07-15T17:37:42.487634Z",
     "start_time": "2025-07-15T17:37:39.380857Z"
    }
   },
   "cell_type": "code",
   "source": "total_users = users_df.select('user_id').distinct().count()",
   "id": "c32faa57892f2a84",
   "outputs": [],
   "execution_count": 8
  },
  {
   "metadata": {
    "ExecuteTime": {
     "end_time": "2025-07-15T17:37:58.429007Z",
     "start_time": "2025-07-15T17:37:58.383583Z"
    }
   },
   "cell_type": "code",
   "source": "total_users",
   "id": "a303abc7bfc47441",
   "outputs": [
    {
     "data": {
      "text/plain": [
       "3"
      ]
     },
     "execution_count": 9,
     "metadata": {},
     "output_type": "execute_result"
    }
   ],
   "execution_count": 9
  },
  {
   "metadata": {
    "ExecuteTime": {
     "end_time": "2025-07-15T17:48:00.715805Z",
     "start_time": "2025-07-15T17:48:00.064412Z"
    }
   },
   "cell_type": "code",
   "source": "result_df.groupBy(col('r.contest_id')).agg(round((count(col('r.user_id'))/total_users)*100,2).alias('percentage')).orderBy([\"percentage\", \"r.contest_id\"], ascending=[False, True]).select('r.contest_id','percentage').show()",
   "id": "147b1192126d6732",
   "outputs": [
    {
     "name": "stdout",
     "output_type": "stream",
     "text": [
      "+----------+----------+\n",
      "|contest_id|percentage|\n",
      "+----------+----------+\n",
      "|       208|     100.0|\n",
      "|       209|     100.0|\n",
      "|       210|     100.0|\n",
      "|       215|     66.67|\n",
      "|       207|     33.33|\n",
      "+----------+----------+\n",
      "\n"
     ]
    }
   ],
   "execution_count": 15
  }
 ],
 "metadata": {
  "kernelspec": {
   "display_name": "Python 3",
   "language": "python",
   "name": "python3"
  },
  "language_info": {
   "codemirror_mode": {
    "name": "ipython",
    "version": 2
   },
   "file_extension": ".py",
   "mimetype": "text/x-python",
   "name": "python",
   "nbconvert_exporter": "python",
   "pygments_lexer": "ipython2",
   "version": "2.7.6"
  }
 },
 "nbformat": 4,
 "nbformat_minor": 5
}
