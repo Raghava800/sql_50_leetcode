{
 "cells": [
  {
   "cell_type": "code",
   "id": "initial_id",
   "metadata": {
    "collapsed": true,
    "ExecuteTime": {
     "end_time": "2025-07-05T14:55:38.170183Z",
     "start_time": "2025-07-05T14:55:38.138929Z"
    }
   },
   "source": [
    "import os\n",
    "import sys\n",
    "spark_home = r\"C:\\spark\\spark-4.0.0-bin-hadoop3\"\n",
    "sys.path.insert(0, spark_home + r\"\\python\")\n",
    "sys.path.insert(0, spark_home + r\"\\python\\lib\\py4j-0.10.9.9-src.zip\")\n",
    "os.environ[\"PYSPARK_PYTHON\"] = \"C:/Users/Raghava/AppData/Local/Programs/Python/Python310/python.exe\"\n",
    "os.environ[\"PYSPARK_DRIVER_PYTHON\"] = \"C:/Users/Raghava/AppData/Local/Programs/Python/Python310/python.exe\"\n"
   ],
   "outputs": [],
   "execution_count": 1
  },
  {
   "metadata": {
    "ExecuteTime": {
     "end_time": "2025-07-05T15:00:08.301554Z",
     "start_time": "2025-07-05T15:00:08.270048Z"
    }
   },
   "cell_type": "code",
   "source": [
    "from pyspark.sql import SparkSession\n",
    "from pyspark.sql.functions import col, lag,unix_timestamp\n",
    "from pyspark.sql.window import Window"
   ],
   "id": "c55572dce2726c5e",
   "outputs": [],
   "execution_count": 10
  },
  {
   "metadata": {
    "ExecuteTime": {
     "end_time": "2025-07-05T14:55:51.448303Z",
     "start_time": "2025-07-05T14:55:39.086950Z"
    }
   },
   "cell_type": "code",
   "source": "spark = SparkSession.builder.getOrCreate()",
   "id": "65553d91cf7953f9",
   "outputs": [],
   "execution_count": 3
  },
  {
   "metadata": {
    "ExecuteTime": {
     "end_time": "2025-07-05T14:55:57.951553Z",
     "start_time": "2025-07-05T14:55:51.479557Z"
    }
   },
   "cell_type": "code",
   "source": "df_temperature = spark.read.csv(\"H:/leet_code_sql_50/sql_50_leetcode/sample_data/09_rising_temperature.csv\", header=True, inferSchema=True)",
   "id": "8e5731bb323cad03",
   "outputs": [],
   "execution_count": 4
  },
  {
   "metadata": {
    "ExecuteTime": {
     "end_time": "2025-07-05T14:55:58.937077Z",
     "start_time": "2025-07-05T14:55:57.967178Z"
    }
   },
   "cell_type": "code",
   "source": "df_temperature.show()",
   "id": "860fc7fd959ba9db",
   "outputs": [
    {
     "name": "stdout",
     "output_type": "stream",
     "text": [
      "+---+----------+-----------+\n",
      "| id|recorddate|temperature|\n",
      "+---+----------+-----------+\n",
      "|  1|2015-01-01|         10|\n",
      "|  2|2015-01-02|         25|\n",
      "|  3|2015-01-03|         20|\n",
      "|  4|2015-01-04|         30|\n",
      "+---+----------+-----------+\n",
      "\n"
     ]
    }
   ],
   "execution_count": 5
  },
  {
   "metadata": {
    "ExecuteTime": {
     "end_time": "2025-07-05T14:56:00.127384Z",
     "start_time": "2025-07-05T14:56:00.064736Z"
    }
   },
   "cell_type": "code",
   "source": "window_spec = Window.orderBy(col('recorddate'))\n",
   "id": "29901db9ab97fb27",
   "outputs": [],
   "execution_count": 6
  },
  {
   "metadata": {
    "ExecuteTime": {
     "end_time": "2025-07-05T14:56:00.365370Z",
     "start_time": "2025-07-05T14:56:00.158495Z"
    }
   },
   "cell_type": "code",
   "source": [
    "\n",
    "df_temperature = df_temperature.withColumn(\n",
    "    \"prev_temperature\", lag(col('temperature')).over(window_spec)\n",
    ").withColumn(\n",
    "    \"prev_recorddate\", lag(col(\"recorddate\")).over(window_spec)\n",
    ")"
   ],
   "id": "da48d45a464c123b",
   "outputs": [],
   "execution_count": 7
  },
  {
   "metadata": {
    "ExecuteTime": {
     "end_time": "2025-07-05T14:56:02.845584Z",
     "start_time": "2025-07-05T14:56:00.538200Z"
    }
   },
   "cell_type": "code",
   "source": "df_temperature.show()",
   "id": "920e972be993b66c",
   "outputs": [
    {
     "name": "stdout",
     "output_type": "stream",
     "text": [
      "+---+----------+-----------+----------------+---------------+\n",
      "| id|recorddate|temperature|prev_temperature|prev_recorddate|\n",
      "+---+----------+-----------+----------------+---------------+\n",
      "|  1|2015-01-01|         10|            NULL|           NULL|\n",
      "|  2|2015-01-02|         25|              10|     2015-01-01|\n",
      "|  3|2015-01-03|         20|              25|     2015-01-02|\n",
      "|  4|2015-01-04|         30|              20|     2015-01-03|\n",
      "+---+----------+-----------+----------------+---------------+\n",
      "\n"
     ]
    }
   ],
   "execution_count": 8
  },
  {
   "metadata": {
    "ExecuteTime": {
     "end_time": "2025-07-05T15:00:32.516836Z",
     "start_time": "2025-07-05T15:00:31.557484Z"
    }
   },
   "cell_type": "code",
   "source": [
    "df_temperature.where(\n",
    "    (col('temperature') > col('prev_temperature')) &\n",
    "    ((unix_timestamp(col('recorddate')) - unix_timestamp(col('prev_recorddate'))) == 86400)  # 86400 seconds = 1 day\n",
    ").select('id').show()"
   ],
   "id": "63cb59932d93dc31",
   "outputs": [
    {
     "name": "stdout",
     "output_type": "stream",
     "text": [
      "+---+\n",
      "| id|\n",
      "+---+\n",
      "|  2|\n",
      "|  4|\n",
      "+---+\n",
      "\n"
     ]
    }
   ],
   "execution_count": 12
  }
 ],
 "metadata": {
  "kernelspec": {
   "display_name": "Python 3",
   "language": "python",
   "name": "python3"
  },
  "language_info": {
   "codemirror_mode": {
    "name": "ipython",
    "version": 2
   },
   "file_extension": ".py",
   "mimetype": "text/x-python",
   "name": "python",
   "nbconvert_exporter": "python",
   "pygments_lexer": "ipython2",
   "version": "2.7.6"
  }
 },
 "nbformat": 4,
 "nbformat_minor": 5
}
