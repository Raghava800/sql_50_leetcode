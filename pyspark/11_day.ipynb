{
 "cells": [
  {
   "cell_type": "code",
   "id": "initial_id",
   "metadata": {
    "collapsed": true,
    "ExecuteTime": {
     "end_time": "2025-07-08T16:17:56.874825Z",
     "start_time": "2025-07-08T16:17:56.827946Z"
    }
   },
   "source": [
    "import os\n",
    "import sys\n",
    "spark_home = r\"C:\\spark\\spark-4.0.0-bin-hadoop3\"\n",
    "sys.path.insert(0, spark_home + r\"\\python\")\n",
    "sys.path.insert(0, spark_home + r\"\\python\\lib\\py4j-0.10.9.9-src.zip\")\n",
    "os.environ[\"PYSPARK_PYTHON\"] = \"C:/Users/Raghava/AppData/Local/Programs/Python/Python310/python.exe\"\n",
    "os.environ[\"PYSPARK_DRIVER_PYTHON\"] = \"C:/Users/Raghava/AppData/Local/Programs/Python/Python310/python.exe\"\n"
   ],
   "outputs": [],
   "execution_count": 1
  },
  {
   "metadata": {
    "ExecuteTime": {
     "end_time": "2025-07-08T16:17:59.528403Z",
     "start_time": "2025-07-08T16:17:57.031102Z"
    }
   },
   "cell_type": "code",
   "source": [
    "from pyspark.sql import SparkSession\n",
    "from pyspark.sql.functions import col, avg,unix_timestamp, round as pyspark_round\n",
    "from pyspark.sql.window import Window"
   ],
   "id": "bab3c23c63305607",
   "outputs": [],
   "execution_count": 2
  },
  {
   "metadata": {
    "ExecuteTime": {
     "end_time": "2025-07-08T16:18:57.173135Z",
     "start_time": "2025-07-08T16:18:02.108Z"
    }
   },
   "cell_type": "code",
   "source": "spark = SparkSession.builder.getOrCreate()",
   "id": "ff03e6a5b95c2e1",
   "outputs": [],
   "execution_count": 3
  },
  {
   "metadata": {
    "ExecuteTime": {
     "end_time": "2025-07-08T16:19:35.327168Z",
     "start_time": "2025-07-08T16:18:57.204357Z"
    }
   },
   "cell_type": "code",
   "source": "bonus_df = spark.read.csv(\"H:/leet_code_sql_50/sql_50_leetcode/sample_data/11_bonus.csv\", header=True, inferSchema=True)",
   "id": "fdd2655a60fecdc5",
   "outputs": [],
   "execution_count": 4
  },
  {
   "metadata": {
    "ExecuteTime": {
     "end_time": "2025-07-08T16:19:35.927367Z",
     "start_time": "2025-07-08T16:19:35.436774Z"
    }
   },
   "cell_type": "code",
   "source": "employee_df = spark.read.csv(\"H:/leet_code_sql_50/sql_50_leetcode/sample_data/11_employee.csv\", header=True, inferSchema=True)",
   "id": "d718232729f509bf",
   "outputs": [],
   "execution_count": 5
  },
  {
   "metadata": {
    "ExecuteTime": {
     "end_time": "2025-07-08T16:19:36.906973Z",
     "start_time": "2025-07-08T16:19:36.891343Z"
    }
   },
   "cell_type": "code",
   "source": "bonus_df.printSchema()",
   "id": "1ea78e4be448a039",
   "outputs": [
    {
     "name": "stdout",
     "output_type": "stream",
     "text": [
      "root\n",
      " |-- empid: integer (nullable = true)\n",
      " |-- bonus: integer (nullable = true)\n",
      "\n"
     ]
    }
   ],
   "execution_count": 6
  },
  {
   "metadata": {
    "ExecuteTime": {
     "end_time": "2025-07-08T16:19:52.376396Z",
     "start_time": "2025-07-08T16:19:51.300252Z"
    }
   },
   "cell_type": "code",
   "source": "employee_df.show()",
   "id": "6b2567c424fee08a",
   "outputs": [
    {
     "name": "stdout",
     "output_type": "stream",
     "text": [
      "+-----+------+----------+------+\n",
      "|empid|  name|supervisor|salary|\n",
      "+-----+------+----------+------+\n",
      "|    3|  Brad|      NULL|  4000|\n",
      "|    1|  John|         3|  1000|\n",
      "|    2|   Dan|         3|  2000|\n",
      "|    4|Thomas|         3|  4000|\n",
      "+-----+------+----------+------+\n",
      "\n"
     ]
    }
   ],
   "execution_count": 7
  },
  {
   "metadata": {
    "ExecuteTime": {
     "end_time": "2025-07-08T16:28:31.597537Z",
     "start_time": "2025-07-08T16:28:30.972707Z"
    }
   },
   "cell_type": "code",
   "source": [
    "employee_df.join(bonus_df,on='empid',how='left') \\\n",
    "    .where((col('bonus') < 1000) | (col('bonus').isNull()) ) \\\n",
    "    .select('name','bonus').show()"
   ],
   "id": "9ae63994b0a69781",
   "outputs": [
    {
     "name": "stdout",
     "output_type": "stream",
     "text": [
      "+----+-----+\n",
      "|name|bonus|\n",
      "+----+-----+\n",
      "|Brad| NULL|\n",
      "|John| NULL|\n",
      "| Dan|  500|\n",
      "+----+-----+\n",
      "\n"
     ]
    }
   ],
   "execution_count": 12
  }
 ],
 "metadata": {
  "kernelspec": {
   "display_name": "Python 3",
   "language": "python",
   "name": "python3"
  },
  "language_info": {
   "codemirror_mode": {
    "name": "ipython",
    "version": 2
   },
   "file_extension": ".py",
   "mimetype": "text/x-python",
   "name": "python",
   "nbconvert_exporter": "python",
   "pygments_lexer": "ipython2",
   "version": "2.7.6"
  }
 },
 "nbformat": 4,
 "nbformat_minor": 5
}
