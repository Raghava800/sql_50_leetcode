{
 "cells": [
  {
   "cell_type": "code",
   "id": "initial_id",
   "metadata": {
    "collapsed": true,
    "ExecuteTime": {
     "end_time": "2025-07-14T15:40:12.761133Z",
     "start_time": "2025-07-14T15:40:12.714132Z"
    }
   },
   "source": [
    "import os\n",
    "import sys\n",
    "spark_home = r\"C:\\spark\\spark-4.0.0-bin-hadoop3\"\n",
    "sys.path.insert(0, spark_home + r\"\\python\")\n",
    "sys.path.insert(0, spark_home + r\"\\python\\lib\\py4j-0.10.9.9-src.zip\")\n",
    "os.environ[\"PYSPARK_PYTHON\"] = \"C:/Users/Raghava/AppData/Local/Programs/Python/Python310/python.exe\"\n",
    "os.environ[\"PYSPARK_DRIVER_PYTHON\"] = \"C:/Users/Raghava/AppData/Local/Programs/Python/Python310/python.exe\"\n"
   ],
   "outputs": [],
   "execution_count": 1
  },
  {
   "metadata": {
    "ExecuteTime": {
     "end_time": "2025-07-14T15:40:15.203941Z",
     "start_time": "2025-07-14T15:40:14.950634Z"
    }
   },
   "cell_type": "code",
   "source": [
    "from pyspark.sql import SparkSession\n",
    "from pyspark.sql.functions import col, avg, round\n"
   ],
   "id": "33630b889aaf567c",
   "outputs": [],
   "execution_count": 2
  },
  {
   "metadata": {
    "ExecuteTime": {
     "end_time": "2025-07-14T15:40:30.583021Z",
     "start_time": "2025-07-14T15:40:17.806836Z"
    }
   },
   "cell_type": "code",
   "source": "spark = SparkSession.builder.getOrCreate()",
   "id": "c69829a02c5a2180",
   "outputs": [],
   "execution_count": 3
  },
  {
   "metadata": {
    "ExecuteTime": {
     "end_time": "2025-07-14T15:40:36.441081Z",
     "start_time": "2025-07-14T15:40:30.583021Z"
    }
   },
   "cell_type": "code",
   "source": "project_df = spark.read.csv(\"H:/leet_code_sql_50/sql_50_leetcode/sample_data/17_project.csv\", header=True, inferSchema=True)",
   "id": "6c1fd3c249f0f180",
   "outputs": [],
   "execution_count": 4
  },
  {
   "metadata": {
    "ExecuteTime": {
     "end_time": "2025-07-14T15:40:37.136101Z",
     "start_time": "2025-07-14T15:40:36.441081Z"
    }
   },
   "cell_type": "code",
   "source": "employee_df = spark.read.csv(\"H:/leet_code_sql_50/sql_50_leetcode/sample_data/17_employee.csv\", header=True, inferSchema=True)",
   "id": "f1571bc1e057f5e5",
   "outputs": [],
   "execution_count": 5
  },
  {
   "metadata": {
    "ExecuteTime": {
     "end_time": "2025-07-14T15:40:37.265424Z",
     "start_time": "2025-07-14T15:40:37.151726Z"
    }
   },
   "cell_type": "code",
   "source": "result_df = project_df.alias('p').join(employee_df.alias('e'), col('p.employee_id') == col('e.employee_id'), how='left')",
   "id": "15812bce38386776",
   "outputs": [],
   "execution_count": 6
  },
  {
   "metadata": {
    "ExecuteTime": {
     "end_time": "2025-07-14T15:40:39.760272Z",
     "start_time": "2025-07-14T15:40:37.281055Z"
    }
   },
   "cell_type": "code",
   "source": [
    "result_df \\\n",
    "    .groupBy(col(\"p.project_id\")) \\\n",
    "    .agg(\n",
    "        round(avg(col(\"e.experience_years\")), 2).alias(\"average_years\")\n",
    "    ) \\\n",
    "    .show()"
   ],
   "id": "b3f100579454a90e",
   "outputs": [
    {
     "name": "stdout",
     "output_type": "stream",
     "text": [
      "+----------+-------------+\n",
      "|project_id|average_years|\n",
      "+----------+-------------+\n",
      "|         1|          2.0|\n",
      "|         2|          2.5|\n",
      "+----------+-------------+\n",
      "\n"
     ]
    }
   ],
   "execution_count": 7
  }
 ],
 "metadata": {
  "kernelspec": {
   "display_name": "Python 3",
   "language": "python",
   "name": "python3"
  },
  "language_info": {
   "codemirror_mode": {
    "name": "ipython",
    "version": 2
   },
   "file_extension": ".py",
   "mimetype": "text/x-python",
   "name": "python",
   "nbconvert_exporter": "python",
   "pygments_lexer": "ipython2",
   "version": "2.7.6"
  }
 },
 "nbformat": 4,
 "nbformat_minor": 5
}
