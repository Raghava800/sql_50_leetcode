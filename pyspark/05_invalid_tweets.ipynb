{
 "cells": [
  {
   "cell_type": "code",
   "id": "initial_id",
   "metadata": {
    "collapsed": true,
    "ExecuteTime": {
     "end_time": "2025-06-29T14:59:22.798475Z",
     "start_time": "2025-06-29T14:59:22.782431Z"
    }
   },
   "source": [
    "import os\n",
    "import sys\n",
    "spark_home = r\"C:\\spark\\spark-4.0.0-bin-hadoop3\"\n",
    "sys.path.insert(0, spark_home + r\"\\python\")\n",
    "sys.path.insert(0, spark_home + r\"\\python\\lib\\py4j-0.10.9.9-src.zip\")\n",
    "os.environ[\"PYSPARK_PYTHON\"] = \"C:/Users/Raghava/AppData/Local/Programs/Python/Python310/python.exe\"\n",
    "os.environ[\"PYSPARK_DRIVER_PYTHON\"] = \"C:/Users/Raghava/AppData/Local/Programs/Python/Python310/python.exe\"\n"
   ],
   "outputs": [],
   "execution_count": 1
  },
  {
   "metadata": {
    "ExecuteTime": {
     "end_time": "2025-06-29T14:59:23.809162Z",
     "start_time": "2025-06-29T14:59:23.396062Z"
    }
   },
   "cell_type": "code",
   "source": [
    "from pyspark.sql import SparkSession\n",
    "from pyspark.sql.functions import col, length"
   ],
   "id": "18732135afbfd9e1",
   "outputs": [],
   "execution_count": 2
  },
  {
   "metadata": {
    "ExecuteTime": {
     "end_time": "2025-06-29T14:59:38.344813Z",
     "start_time": "2025-06-29T14:59:23.845258Z"
    }
   },
   "cell_type": "code",
   "source": "spark = SparkSession.builder.getOrCreate()",
   "id": "c943c7ae109c1d36",
   "outputs": [],
   "execution_count": 3
  },
  {
   "metadata": {
    "ExecuteTime": {
     "end_time": "2025-06-29T14:59:50.634492Z",
     "start_time": "2025-06-29T14:59:38.372888Z"
    }
   },
   "cell_type": "code",
   "source": "df = spark.read.csv(\"H:/leet_code_sql_50/sql_50_leetcode/sample_data/05_invalid_tweets.csv\", header=True, inferSchema=True)",
   "id": "7dd730beb399de07",
   "outputs": [],
   "execution_count": 4
  },
  {
   "metadata": {
    "ExecuteTime": {
     "end_time": "2025-06-29T15:00:44.026153Z",
     "start_time": "2025-06-29T15:00:43.578726Z"
    }
   },
   "cell_type": "code",
   "source": "df.where(length(col('content')) > 15).select(\"tweet_id\").show()",
   "id": "c4f3dc1707bac4d5",
   "outputs": [
    {
     "name": "stdout",
     "output_type": "stream",
     "text": [
      "+--------+\n",
      "|tweet_id|\n",
      "+--------+\n",
      "|       2|\n",
      "|       4|\n",
      "+--------+\n",
      "\n"
     ]
    }
   ],
   "execution_count": 6
  }
 ],
 "metadata": {
  "kernelspec": {
   "display_name": "Python 3",
   "language": "python",
   "name": "python3"
  },
  "language_info": {
   "codemirror_mode": {
    "name": "ipython",
    "version": 2
   },
   "file_extension": ".py",
   "mimetype": "text/x-python",
   "name": "python",
   "nbconvert_exporter": "python",
   "pygments_lexer": "ipython2",
   "version": "2.7.6"
  }
 },
 "nbformat": 4,
 "nbformat_minor": 5
}
