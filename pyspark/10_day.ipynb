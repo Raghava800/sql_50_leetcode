{
 "cells": [
  {
   "cell_type": "code",
   "id": "initial_id",
   "metadata": {
    "collapsed": true,
    "ExecuteTime": {
     "end_time": "2025-07-07T12:49:23.882525Z",
     "start_time": "2025-07-07T12:49:23.851272Z"
    }
   },
   "source": [
    "import os\n",
    "import sys\n",
    "spark_home = r\"C:\\spark\\spark-4.0.0-bin-hadoop3\"\n",
    "sys.path.insert(0, spark_home + r\"\\python\")\n",
    "sys.path.insert(0, spark_home + r\"\\python\\lib\\py4j-0.10.9.9-src.zip\")\n",
    "os.environ[\"PYSPARK_PYTHON\"] = \"C:/Users/Raghava/AppData/Local/Programs/Python/Python310/python.exe\"\n",
    "os.environ[\"PYSPARK_DRIVER_PYTHON\"] = \"C:/Users/Raghava/AppData/Local/Programs/Python/Python310/python.exe\"\n"
   ],
   "outputs": [],
   "execution_count": 1
  },
  {
   "metadata": {
    "ExecuteTime": {
     "end_time": "2025-07-07T12:49:24.980609Z",
     "start_time": "2025-07-07T12:49:24.482049Z"
    }
   },
   "cell_type": "code",
   "source": [
    "from pyspark.sql import SparkSession\n",
    "from pyspark.sql.functions import col, avg,unix_timestamp, round as pyspark_round\n",
    "from pyspark.sql.window import Window"
   ],
   "id": "3c4b1f93d4a0c0c",
   "outputs": [],
   "execution_count": 2
  },
  {
   "metadata": {
    "ExecuteTime": {
     "end_time": "2025-07-07T12:49:39.350189Z",
     "start_time": "2025-07-07T12:49:25.030503Z"
    }
   },
   "cell_type": "code",
   "source": "spark = SparkSession.builder.getOrCreate()",
   "id": "857d71d2d9ca7e79",
   "outputs": [],
   "execution_count": 3
  },
  {
   "metadata": {
    "ExecuteTime": {
     "end_time": "2025-07-07T12:49:45.908594Z",
     "start_time": "2025-07-07T12:49:39.381441Z"
    }
   },
   "cell_type": "code",
   "source": "activity_df = spark.read.csv(\"H:/leet_code_sql_50/sql_50_leetcode/sample_data/10_activity.csv\", header=True, inferSchema=True)",
   "id": "f5a01a06f49f5300",
   "outputs": [],
   "execution_count": 4
  },
  {
   "metadata": {
    "ExecuteTime": {
     "end_time": "2025-07-07T12:49:50.652188Z",
     "start_time": "2025-07-07T12:49:45.987015Z"
    }
   },
   "cell_type": "code",
   "source": [
    "# Split the activity table into start and end events\n",
    "start_df = activity_df.filter(col(\"activity_type\") == \"start\") \\\n",
    "    .selectExpr(\"machine_id\", \"process_id\", \"timestamp as start_time\")\n",
    "\n",
    "end_df = activity_df.filter(col(\"activity_type\") == \"end\") \\\n",
    "    .selectExpr(\"machine_id\", \"process_id\", \"timestamp as end_time\")\n",
    "\n",
    "# Join start and end events on machine_id and process_id\n",
    "joined_df = start_df.join(\n",
    "    end_df,\n",
    "    on=[\"machine_id\", \"process_id\"]\n",
    ").filter(col(\"start_time\") < col(\"end_time\"))\n",
    "\n",
    "# Calculate duration and average per machine\n",
    "result_df = joined_df.withColumn(\n",
    "    \"duration\", (col(\"end_time\").cast(\"long\") - col(\"start_time\").cast(\"long\")).cast(\"double\")\n",
    ").groupBy(\"machine_id\").agg(\n",
    "    pyspark_round(avg(\"duration\"), 3).alias(\"processing_time\")\n",
    ")\n",
    "\n",
    "# Show result\n",
    "result_df.show()"
   ],
   "id": "af86c74fbb47db81",
   "outputs": [
    {
     "name": "stdout",
     "output_type": "stream",
     "text": [
      "+----------+---------------+\n",
      "|machine_id|processing_time|\n",
      "+----------+---------------+\n",
      "|         1|            1.0|\n",
      "|         2|            1.5|\n",
      "|         0|            1.0|\n",
      "+----------+---------------+\n",
      "\n"
     ]
    }
   ],
   "execution_count": 5
  },
  {
   "metadata": {
    "ExecuteTime": {
     "end_time": "2025-07-07T12:49:51.882796Z",
     "start_time": "2025-07-07T12:49:51.867167Z"
    }
   },
   "cell_type": "code",
   "source": "",
   "id": "bfce0e8626164c55",
   "outputs": [],
   "execution_count": null
  },
  {
   "metadata": {},
   "cell_type": "code",
   "outputs": [],
   "execution_count": null,
   "source": "",
   "id": "ff89f71a141e595a"
  }
 ],
 "metadata": {
  "kernelspec": {
   "display_name": "Python 3",
   "language": "python",
   "name": "python3"
  },
  "language_info": {
   "codemirror_mode": {
    "name": "ipython",
    "version": 2
   },
   "file_extension": ".py",
   "mimetype": "text/x-python",
   "name": "python",
   "nbconvert_exporter": "python",
   "pygments_lexer": "ipython2",
   "version": "2.7.6"
  }
 },
 "nbformat": 4,
 "nbformat_minor": 5
}
