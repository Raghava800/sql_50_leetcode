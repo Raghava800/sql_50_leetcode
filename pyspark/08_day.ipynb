{
 "cells": [
  {
   "cell_type": "code",
   "id": "initial_id",
   "metadata": {
    "collapsed": true,
    "ExecuteTime": {
     "end_time": "2025-07-05T14:27:12.352365Z",
     "start_time": "2025-07-05T14:27:12.338328Z"
    }
   },
   "source": [
    "import os\n",
    "import sys\n",
    "spark_home = r\"C:\\spark\\spark-4.0.0-bin-hadoop3\"\n",
    "sys.path.insert(0, spark_home + r\"\\python\")\n",
    "sys.path.insert(0, spark_home + r\"\\python\\lib\\py4j-0.10.9.9-src.zip\")\n",
    "os.environ[\"PYSPARK_PYTHON\"] = \"C:/Users/Raghava/AppData/Local/Programs/Python/Python310/python.exe\"\n",
    "os.environ[\"PYSPARK_DRIVER_PYTHON\"] = \"C:/Users/Raghava/AppData/Local/Programs/Python/Python310/python.exe\"\n"
   ],
   "outputs": [],
   "execution_count": 1
  },
  {
   "metadata": {
    "ExecuteTime": {
     "end_time": "2025-07-05T14:33:07.454013Z",
     "start_time": "2025-07-05T14:33:07.447999Z"
    }
   },
   "cell_type": "code",
   "source": [
    "from pyspark.sql import SparkSession\n",
    "from pyspark.sql.functions import col, count"
   ],
   "id": "9b7db69ea2ad681d",
   "outputs": [],
   "execution_count": 12
  },
  {
   "metadata": {
    "ExecuteTime": {
     "end_time": "2025-07-05T14:28:09.615833Z",
     "start_time": "2025-07-05T14:27:19.145155Z"
    }
   },
   "cell_type": "code",
   "source": "spark = SparkSession.builder.getOrCreate()",
   "id": "1bbd3cf8fe45f844",
   "outputs": [],
   "execution_count": 3
  },
  {
   "metadata": {
    "ExecuteTime": {
     "end_time": "2025-07-05T14:28:50.317738Z",
     "start_time": "2025-07-05T14:28:49.523625Z"
    }
   },
   "cell_type": "code",
   "source": "df_transactions = spark.read.csv(\"H:/leet_code_sql_50/sql_50_leetcode/sample_data/08_transactions.csv\", header=True, inferSchema=True)",
   "id": "2a14fc6f5f3d87be",
   "outputs": [],
   "execution_count": 5
  },
  {
   "metadata": {
    "ExecuteTime": {
     "end_time": "2025-07-05T14:28:55.279591Z",
     "start_time": "2025-07-05T14:28:54.018203Z"
    }
   },
   "cell_type": "code",
   "source": "df_transactions.show()",
   "id": "a88bcc6efe2de587",
   "outputs": [
    {
     "name": "stdout",
     "output_type": "stream",
     "text": [
      "+--------------+--------+------+\n",
      "|transaction_id|visit_id|amount|\n",
      "+--------------+--------+------+\n",
      "|             2|       5|   310|\n",
      "|             3|       5|   300|\n",
      "|             9|       5|   200|\n",
      "|            12|       1|   910|\n",
      "|            13|       2|   970|\n",
      "+--------------+--------+------+\n",
      "\n"
     ]
    }
   ],
   "execution_count": 6
  },
  {
   "metadata": {
    "ExecuteTime": {
     "end_time": "2025-07-05T14:29:27.909397Z",
     "start_time": "2025-07-05T14:29:27.313815Z"
    }
   },
   "cell_type": "code",
   "source": "df_visits = spark.read.csv(\"H:/leet_code_sql_50/sql_50_leetcode/sample_data/08_visits.csv\", header=True, inferSchema=True)",
   "id": "3586f6954fa596f7",
   "outputs": [],
   "execution_count": 7
  },
  {
   "metadata": {
    "ExecuteTime": {
     "end_time": "2025-07-05T14:29:42.345598Z",
     "start_time": "2025-07-05T14:29:41.466260Z"
    }
   },
   "cell_type": "code",
   "source": "df_visits.show()",
   "id": "26ee9b18872279d4",
   "outputs": [
    {
     "name": "stdout",
     "output_type": "stream",
     "text": [
      "+--------+-----------+\n",
      "|visit_id|customer_id|\n",
      "+--------+-----------+\n",
      "|       1|         23|\n",
      "|       2|          9|\n",
      "|       4|         30|\n",
      "|       5|         54|\n",
      "|       6|         96|\n",
      "|       7|         54|\n",
      "|       8|         54|\n",
      "+--------+-----------+\n",
      "\n"
     ]
    }
   ],
   "execution_count": 8
  },
  {
   "metadata": {
    "ExecuteTime": {
     "end_time": "2025-07-05T14:31:13.949912Z",
     "start_time": "2025-07-05T14:31:13.835738Z"
    }
   },
   "cell_type": "code",
   "source": "df_result = df_visits.join(df_transactions,on ='visit_id',how='left')",
   "id": "3bd45620c443f7a5",
   "outputs": [],
   "execution_count": 10
  },
  {
   "metadata": {
    "ExecuteTime": {
     "end_time": "2025-07-05T14:31:18.091268Z",
     "start_time": "2025-07-05T14:31:16.149209Z"
    }
   },
   "cell_type": "code",
   "source": "df_result.show()",
   "id": "970b84910a42b1ea",
   "outputs": [
    {
     "name": "stdout",
     "output_type": "stream",
     "text": [
      "+--------+-----------+--------------+------+\n",
      "|visit_id|customer_id|transaction_id|amount|\n",
      "+--------+-----------+--------------+------+\n",
      "|       1|         23|            12|   910|\n",
      "|       2|          9|            13|   970|\n",
      "|       4|         30|          NULL|  NULL|\n",
      "|       5|         54|             9|   200|\n",
      "|       5|         54|             3|   300|\n",
      "|       5|         54|             2|   310|\n",
      "|       6|         96|          NULL|  NULL|\n",
      "|       7|         54|          NULL|  NULL|\n",
      "|       8|         54|          NULL|  NULL|\n",
      "+--------+-----------+--------------+------+\n",
      "\n"
     ]
    }
   ],
   "execution_count": 11
  },
  {
   "metadata": {
    "ExecuteTime": {
     "end_time": "2025-07-05T14:33:29.995781Z",
     "start_time": "2025-07-05T14:33:29.739161Z"
    }
   },
   "cell_type": "code",
   "source": "df_result = df_result.where(col('transaction_id').isNull())",
   "id": "62b34297261b32a",
   "outputs": [],
   "execution_count": 13
  },
  {
   "metadata": {
    "ExecuteTime": {
     "end_time": "2025-07-05T14:33:40.414995Z",
     "start_time": "2025-07-05T14:33:39.315069Z"
    }
   },
   "cell_type": "code",
   "source": "df_result.show()",
   "id": "d63c19421271714d",
   "outputs": [
    {
     "name": "stdout",
     "output_type": "stream",
     "text": [
      "+--------+-----------+--------------+------+\n",
      "|visit_id|customer_id|transaction_id|amount|\n",
      "+--------+-----------+--------------+------+\n",
      "|       4|         30|          NULL|  NULL|\n",
      "|       6|         96|          NULL|  NULL|\n",
      "|       7|         54|          NULL|  NULL|\n",
      "|       8|         54|          NULL|  NULL|\n",
      "+--------+-----------+--------------+------+\n",
      "\n"
     ]
    }
   ],
   "execution_count": 14
  },
  {
   "metadata": {
    "ExecuteTime": {
     "end_time": "2025-07-05T14:37:34.483205Z",
     "start_time": "2025-07-05T14:37:31.438581Z"
    }
   },
   "cell_type": "code",
   "source": "df_result.groupBy('customer_id').agg(count(col('visit_id')).alias('visit_count')).show()",
   "id": "38dc260e29e6aaca",
   "outputs": [
    {
     "name": "stdout",
     "output_type": "stream",
     "text": [
      "+-----------+-----------+\n",
      "|customer_id|visit_count|\n",
      "+-----------+-----------+\n",
      "|         54|          2|\n",
      "|         96|          1|\n",
      "|         30|          1|\n",
      "+-----------+-----------+\n",
      "\n"
     ]
    }
   ],
   "execution_count": 15
  }
 ],
 "metadata": {
  "kernelspec": {
   "display_name": "Python 3",
   "language": "python",
   "name": "python3"
  },
  "language_info": {
   "codemirror_mode": {
    "name": "ipython",
    "version": 2
   },
   "file_extension": ".py",
   "mimetype": "text/x-python",
   "name": "python",
   "nbconvert_exporter": "python",
   "pygments_lexer": "ipython2",
   "version": "2.7.6"
  }
 },
 "nbformat": 4,
 "nbformat_minor": 5
}
