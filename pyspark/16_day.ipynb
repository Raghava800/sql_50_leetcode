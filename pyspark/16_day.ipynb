{
 "cells": [
  {
   "cell_type": "code",
   "id": "initial_id",
   "metadata": {
    "collapsed": true,
    "ExecuteTime": {
     "end_time": "2025-07-13T14:53:34.332477Z",
     "start_time": "2025-07-13T14:53:34.249256Z"
    }
   },
   "source": [
    "import os\n",
    "import sys\n",
    "spark_home = r\"C:\\spark\\spark-4.0.0-bin-hadoop3\"\n",
    "sys.path.insert(0, spark_home + r\"\\python\")\n",
    "sys.path.insert(0, spark_home + r\"\\python\\lib\\py4j-0.10.9.9-src.zip\")\n",
    "os.environ[\"PYSPARK_PYTHON\"] = \"C:/Users/Raghava/AppData/Local/Programs/Python/Python310/python.exe\"\n",
    "os.environ[\"PYSPARK_DRIVER_PYTHON\"] = \"C:/Users/Raghava/AppData/Local/Programs/Python/Python310/python.exe\"\n"
   ],
   "outputs": [],
   "execution_count": 1
  },
  {
   "metadata": {
    "ExecuteTime": {
     "end_time": "2025-07-13T15:30:19.333076Z",
     "start_time": "2025-07-13T15:30:19.317441Z"
    }
   },
   "cell_type": "code",
   "source": [
    "from pyspark.sql import SparkSession\n",
    "from pyspark.sql.functions import col, sum as _sum, when, round\n",
    "from pyspark.sql.window import Window"
   ],
   "id": "ffddc9d81f3e8a5f",
   "outputs": [],
   "execution_count": 19
  },
  {
   "metadata": {
    "ExecuteTime": {
     "end_time": "2025-07-13T14:54:28.746464Z",
     "start_time": "2025-07-13T14:53:38.182166Z"
    }
   },
   "cell_type": "code",
   "source": "spark = SparkSession.builder.getOrCreate()",
   "id": "cec25cf6c63f9610",
   "outputs": [],
   "execution_count": 3
  },
  {
   "metadata": {
    "ExecuteTime": {
     "end_time": "2025-07-13T14:54:38.777051Z",
     "start_time": "2025-07-13T14:54:28.762086Z"
    }
   },
   "cell_type": "code",
   "source": "prices_df = spark.read.csv(\"H:/leet_code_sql_50/sql_50_leetcode/sample_data/16_prices.csv\", header=True, inferSchema=True)",
   "id": "acd7554d65b105b7",
   "outputs": [],
   "execution_count": 4
  },
  {
   "metadata": {
    "ExecuteTime": {
     "end_time": "2025-07-13T14:54:39.446099Z",
     "start_time": "2025-07-13T14:54:38.793104Z"
    }
   },
   "cell_type": "code",
   "source": "unitssold_df = spark.read.csv(\"H:/leet_code_sql_50/sql_50_leetcode/sample_data/16_unitssold.csv\", header=True, inferSchema=True)",
   "id": "1507c85b98ebf550",
   "outputs": [],
   "execution_count": 5
  },
  {
   "metadata": {
    "ExecuteTime": {
     "end_time": "2025-07-13T14:54:56.341886Z",
     "start_time": "2025-07-13T14:54:54.948647Z"
    }
   },
   "cell_type": "code",
   "source": "prices_df.show()",
   "id": "6687ae6528e03a09",
   "outputs": [
    {
     "name": "stdout",
     "output_type": "stream",
     "text": [
      "+----------+----------+----------+-----+\n",
      "|product_id|start_date|  end_date|price|\n",
      "+----------+----------+----------+-----+\n",
      "|         1|2019-02-17|2019-02-28|    5|\n",
      "|         1|2019-03-01|2019-03-22|   20|\n",
      "|         2|2019-02-01|2019-02-20|   15|\n",
      "|         2|2019-02-21|2019-03-31|   30|\n",
      "+----------+----------+----------+-----+\n",
      "\n"
     ]
    }
   ],
   "execution_count": 6
  },
  {
   "metadata": {
    "ExecuteTime": {
     "end_time": "2025-07-13T14:55:11.513794Z",
     "start_time": "2025-07-13T14:55:10.917046Z"
    }
   },
   "cell_type": "code",
   "source": "unitssold_df.show()",
   "id": "dd50eb0107559c1f",
   "outputs": [
    {
     "name": "stdout",
     "output_type": "stream",
     "text": [
      "+----------+-------------+-----+\n",
      "|product_id|purchase_date|units|\n",
      "+----------+-------------+-----+\n",
      "|         1|   2019-02-25|  100|\n",
      "|         1|   2019-03-01|   15|\n",
      "|         2|   2019-02-10|  200|\n",
      "|         2|   2019-03-22|   30|\n",
      "+----------+-------------+-----+\n",
      "\n"
     ]
    }
   ],
   "execution_count": 7
  },
  {
   "metadata": {
    "ExecuteTime": {
     "end_time": "2025-07-13T15:12:22.252524Z",
     "start_time": "2025-07-13T15:12:21.907289Z"
    }
   },
   "cell_type": "code",
   "source": [
    "result_df = prices_df.alias('p')\\\n",
    "    .join(unitssold_df.alias('u'), (col(\"p.product_id\") == col(\"u.product_id\")) &\n",
    "          ((col(\"u.purchase_date\") >= col(\"p.start_date\")) & (col(\"u.purchase_date\") <= col(\"p.end_date\")))\n",
    "          , how = 'left')"
   ],
   "id": "8e5888c4394bc9e5",
   "outputs": [],
   "execution_count": 10
  },
  {
   "metadata": {
    "ExecuteTime": {
     "end_time": "2025-07-13T15:12:29.920734Z",
     "start_time": "2025-07-13T15:12:28.314969Z"
    }
   },
   "cell_type": "code",
   "source": "result_df.show()",
   "id": "ba2a28cbd9cfe103",
   "outputs": [
    {
     "name": "stdout",
     "output_type": "stream",
     "text": [
      "+----------+----------+----------+-----+----------+-------------+-----+\n",
      "|product_id|start_date|  end_date|price|product_id|purchase_date|units|\n",
      "+----------+----------+----------+-----+----------+-------------+-----+\n",
      "|         1|2019-02-17|2019-02-28|    5|         1|   2019-02-25|  100|\n",
      "|         1|2019-03-01|2019-03-22|   20|         1|   2019-03-01|   15|\n",
      "|         2|2019-02-01|2019-02-20|   15|         2|   2019-02-10|  200|\n",
      "|         2|2019-02-21|2019-03-31|   30|         2|   2019-03-22|   30|\n",
      "+----------+----------+----------+-----+----------+-------------+-----+\n",
      "\n"
     ]
    }
   ],
   "execution_count": 11
  },
  {
   "metadata": {
    "ExecuteTime": {
     "end_time": "2025-07-13T15:34:46.810999Z",
     "start_time": "2025-07-13T15:34:46.692100Z"
    }
   },
   "cell_type": "code",
   "source": [
    "aggregated_df = result_df.groupBy(col('p.product_id'))\\\n",
    "    .agg(when(\n",
    "    (_sum(col('u.units')) == 0)  | (_sum(col('u.units')).isNull()) ,0  )\\\n",
    "         .otherwise(round(_sum(col('u.units')*col('p.price'))*1.0/_sum(col('u.units')),2)).alias(\"average_price\"))"
   ],
   "id": "2316ba848c8f83ce",
   "outputs": [],
   "execution_count": 23
  },
  {
   "metadata": {
    "ExecuteTime": {
     "end_time": "2025-07-13T15:35:06.234851Z",
     "start_time": "2025-07-13T15:35:02.827130Z"
    }
   },
   "cell_type": "code",
   "source": "aggregated_df.show()",
   "id": "8604c8a9eb074d11",
   "outputs": [
    {
     "name": "stdout",
     "output_type": "stream",
     "text": [
      "+----------+-------------+\n",
      "|product_id|average_price|\n",
      "+----------+-------------+\n",
      "|         1|         6.96|\n",
      "|         2|        16.96|\n",
      "+----------+-------------+\n",
      "\n"
     ]
    }
   ],
   "execution_count": 24
  },
  {
   "metadata": {},
   "cell_type": "code",
   "outputs": [],
   "execution_count": null,
   "source": "",
   "id": "849dc3c2844315dd"
  }
 ],
 "metadata": {
  "kernelspec": {
   "display_name": "Python 3",
   "language": "python",
   "name": "python3"
  },
  "language_info": {
   "codemirror_mode": {
    "name": "ipython",
    "version": 2
   },
   "file_extension": ".py",
   "mimetype": "text/x-python",
   "name": "python",
   "nbconvert_exporter": "python",
   "pygments_lexer": "ipython2",
   "version": "2.7.6"
  }
 },
 "nbformat": 4,
 "nbformat_minor": 5
}
