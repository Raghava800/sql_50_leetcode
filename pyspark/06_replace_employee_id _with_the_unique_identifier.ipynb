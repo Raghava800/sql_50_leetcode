{
 "cells": [
  {
   "cell_type": "code",
   "id": "initial_id",
   "metadata": {
    "collapsed": true,
    "ExecuteTime": {
     "end_time": "2025-06-29T15:12:02.379343Z",
     "start_time": "2025-06-29T15:12:02.366312Z"
    }
   },
   "source": [
    "import os\n",
    "import sys\n",
    "spark_home = r\"C:\\spark\\spark-4.0.0-bin-hadoop3\"\n",
    "sys.path.insert(0, spark_home + r\"\\python\")\n",
    "sys.path.insert(0, spark_home + r\"\\python\\lib\\py4j-0.10.9.9-src.zip\")\n",
    "os.environ[\"PYSPARK_PYTHON\"] = \"C:/Users/Raghava/AppData/Local/Programs/Python/Python310/python.exe\"\n",
    "os.environ[\"PYSPARK_DRIVER_PYTHON\"] = \"C:/Users/Raghava/AppData/Local/Programs/Python/Python310/python.exe\"\n"
   ],
   "outputs": [],
   "execution_count": 1
  },
  {
   "metadata": {
    "ExecuteTime": {
     "end_time": "2025-06-29T15:12:04.542156Z",
     "start_time": "2025-06-29T15:12:04.281464Z"
    }
   },
   "cell_type": "code",
   "source": "from pyspark.sql import SparkSession\n",
   "id": "d79414b0e42ac990",
   "outputs": [],
   "execution_count": 2
  },
  {
   "metadata": {
    "ExecuteTime": {
     "end_time": "2025-06-29T15:12:28.774100Z",
     "start_time": "2025-06-29T15:12:15.836758Z"
    }
   },
   "cell_type": "code",
   "source": "spark = SparkSession.builder.getOrCreate()",
   "id": "bc3ced404f17959",
   "outputs": [],
   "execution_count": 3
  },
  {
   "metadata": {
    "ExecuteTime": {
     "end_time": "2025-06-29T15:12:34.488775Z",
     "start_time": "2025-06-29T15:12:28.797162Z"
    }
   },
   "cell_type": "code",
   "source": "df_emp = spark.read.csv(\"H:/leet_code_sql_50/sql_50_leetcode/sample_data/06_replace_employee_id _with_the_unique_identifier_one.csv\", header=True, inferSchema=True)",
   "id": "2cafa7010df590d4",
   "outputs": [],
   "execution_count": 4
  },
  {
   "metadata": {
    "ExecuteTime": {
     "end_time": "2025-06-29T15:12:35.059295Z",
     "start_time": "2025-06-29T15:12:34.572997Z"
    }
   },
   "cell_type": "code",
   "source": "df_emp_uni = spark.read.csv(\"H:/leet_code_sql_50/sql_50_leetcode/sample_data/06_replace_employee_id _with_the_unique_identifier_two.csv\", header=True, inferSchema=True)",
   "id": "2f175d1cd48d28a5",
   "outputs": [],
   "execution_count": 5
  },
  {
   "metadata": {
    "ExecuteTime": {
     "end_time": "2025-06-29T15:22:49.420843Z",
     "start_time": "2025-06-29T15:22:48.729975Z"
    }
   },
   "cell_type": "code",
   "source": [
    "df_emp.join(df_emp_uni, on=\"id\", how=\"left\") \\\n",
    "               .select(\"unique_id\", \"name\").show()"
   ],
   "id": "586d6f1fbc58774",
   "outputs": [
    {
     "name": "stdout",
     "output_type": "stream",
     "text": [
      "+---------+--------+\n",
      "|unique_id|    name|\n",
      "+---------+--------+\n",
      "|     NULL|   Alice|\n",
      "|     NULL|     Bob|\n",
      "|        2|    Meir|\n",
      "|        3| Winston|\n",
      "|        1|Jonathan|\n",
      "+---------+--------+\n",
      "\n"
     ]
    }
   ],
   "execution_count": 11
  }
 ],
 "metadata": {
  "kernelspec": {
   "display_name": "Python 3",
   "language": "python",
   "name": "python3"
  },
  "language_info": {
   "codemirror_mode": {
    "name": "ipython",
    "version": 2
   },
   "file_extension": ".py",
   "mimetype": "text/x-python",
   "name": "python",
   "nbconvert_exporter": "python",
   "pygments_lexer": "ipython2",
   "version": "2.7.6"
  }
 },
 "nbformat": 4,
 "nbformat_minor": 5
}
